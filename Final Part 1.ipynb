{
 "cells": [
  {
   "cell_type": "code",
   "execution_count": 13,
   "id": "81c861a6",
   "metadata": {},
   "outputs": [],
   "source": [
    "import numpy as np\n",
    "import random"
   ]
  },
  {
   "cell_type": "code",
   "execution_count": 14,
   "id": "3acb1c5d",
   "metadata": {},
   "outputs": [],
   "source": [
    "# defining all parameters that will be printed at the end\n",
    "i=0\n",
    "xdata=[]\n",
    "ytdata=[]\n",
    "dydata=[]\n",
    "sigma=0.05"
   ]
  },
  {
   "cell_type": "code",
   "execution_count": 15,
   "id": "d590004a",
   "metadata": {},
   "outputs": [],
   "source": [
    "#generating data set of 50 points\n",
    "while i<50:\n",
    "    #generating random x values b/w 1 and 10\n",
    "    x=random.uniform(0,10)\n",
    "    #the physical model\n",
    "    y_true=2*x**2+2*x+2\n",
    "    #the random gaussian fluctuations (mu is 1 and sigma is 5%)\n",
    "    dy=sigma*y_true\n",
    "    y_meas=y_true+y_true*random.gauss(1, sigma)\n",
    "    #arrays are made\n",
    "    xdata.append(x)\n",
    "    ytdata.append(y_meas)\n",
    "    dydata.append(dy)\n",
    "    i=i+1\n",
    "    continue"
   ]
  },
  {
   "cell_type": "code",
   "execution_count": 16,
   "id": "b9d2e53e",
   "metadata": {},
   "outputs": [],
   "source": [
    "with open('data.txt', 'w') as fh:\n",
    "    for a,b,c in zip(xdata, ytdata, dydata):\n",
    "        print(\"%f %f %f\" % (a,b,c), file=fh)"
   ]
  },
  {
   "cell_type": "code",
   "execution_count": null,
   "id": "e5564d60",
   "metadata": {},
   "outputs": [],
   "source": []
  }
 ],
 "metadata": {
  "kernelspec": {
   "display_name": "Python 3 (ipykernel)",
   "language": "python",
   "name": "python3"
  },
  "language_info": {
   "codemirror_mode": {
    "name": "ipython",
    "version": 3
   },
   "file_extension": ".py",
   "mimetype": "text/x-python",
   "name": "python",
   "nbconvert_exporter": "python",
   "pygments_lexer": "ipython3",
   "version": "3.9.7"
  }
 },
 "nbformat": 4,
 "nbformat_minor": 5
}
