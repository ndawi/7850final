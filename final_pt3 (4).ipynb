{
 "cells": [
  {
   "cell_type": "code",
   "execution_count": 9,
   "id": "a7d0438c",
   "metadata": {},
   "outputs": [],
   "source": [
    "\n",
    "import matplotlib.pyplot as plt\n",
    "import numpy as np\n",
    "from scipy.optimize import curve_fit\n",
    "import scipy.stats as stats"
   ]
  },
  {
   "cell_type": "code",
   "execution_count": 3,
   "id": "b7317429",
   "metadata": {},
   "outputs": [],
   "source": [
    "\n",
    "#following this tutorial for chi square test: https://www.statology.org/chi-square-goodness-of-fit-test-python/\n",
    "\n",
    "X=[]\n",
    "Y=[]\n",
    "Err=[]\n",
    "\n",
    "#issues with uploading data file followed this tutorial - https://www.geeksforgeeks.org/how-to-plot-data-from-a-text-file-using-matplotlib/\n",
    "\n",
    "with open('data.txt', 'r') as df:\n",
    "    #Because the data file had string values instead of float have to convert\n",
    "    lines=df.read().split('\\n')\n",
    "    lines=list(filter(None,lines))\n",
    "    \n",
    "    for line in lines:\n",
    "        \n",
    "        v=line.split()\n",
    "        X.append(float(v[0]))\n",
    "        Y.append(float(v[1]))\n",
    "        Err.append(float(v[2]))\n",
    "\n",
    "\n",
    "\n",
    "\n"
   ]
  },
  {
   "cell_type": "code",
   "execution_count": 4,
   "id": "2ed2d7a7",
   "metadata": {
    "scrolled": true
   },
   "outputs": [
    {
     "data": {
      "image/png": "[encoded data removed]",
      "text/plain": [
       "<Figure size 432x288 with 1 Axes>"
      ]
     },
     "metadata": {
      "needs_background": "light"
     },
     "output_type": "display_data"
    }
   ],
   "source": [
    "plt.scatter(X, Y)\n",
    "plt.title('Graph of X and Y')\n",
    "plt.xlabel('X')\n",
    "plt.ylabel('Y')\n",
    "for i in range(len(Err)):\n",
    "    plt.errorbar(X,Y,yerr=Err[i],ls='none')\n",
    "plt.show()\n"
   ]
  },
  {
   "cell_type": "code",
   "execution_count": 5,
   "id": "27efb1cb",
   "metadata": {},
   "outputs": [
    {
     "name": "stdout",
     "output_type": "stream",
     "text": [
      "a= 1.0\n",
      "b= 9.0\n",
      "c= 0.0\n",
      "d= 1.97\n",
      "e= 0.06\n",
      "[[ 2.28588826e-07 -1.78572039e-06 -1.78818496e-05  1.74372032e-04\n",
      "  -3.18535643e-04]\n",
      " [-1.78572039e-06  1.78219030e-05  1.26303689e-04 -1.70399377e-03\n",
      "   3.97202374e-03]\n",
      " [-1.78818496e-05  1.26303689e-04  1.46460509e-03 -1.24400452e-02\n",
      "   1.87209235e-02]\n",
      " [ 1.74372032e-04 -1.70399377e-03 -1.24400452e-02  1.63775314e-01\n",
      "  -3.77731147e-01]\n",
      " [-3.18535643e-04  3.97202374e-03  1.87209235e-02 -3.77731147e-01\n",
      "   1.09939114e+00]]\n"
     ]
    }
   ],
   "source": [
    "\n",
    "\n",
    "# Null hypothesis is a x^4 function\n",
    "\n",
    "x=np.array(X)\n",
    "y=np.array(Y)\n",
    "Err=np.array(Err)\n",
    "\n",
    "def Null_hyp(x,a,b,c,d,e):\n",
    "    return a*x**4+b*x**3+c*x**2+d*x+e\n",
    "\n",
    "#curve fitting to find what the function is\n",
    "coeff, pcov=curve_fit(Null_hyp,x,y)\n",
    "\n",
    "[a, b, c, d, e,] = coeff\n",
    "print ('a=', round(a,2)) \n",
    "print ('b=', round(b,2))\n",
    "print ('c=', round(c,2))\n",
    "print ('d=', round(d,2))\n",
    "print ('e=', round(e,2))\n",
    "\n",
    "print(pcov)\n"
   ]
  },
  {
   "cell_type": "code",
   "execution_count": 6,
   "id": "316e4c05",
   "metadata": {},
   "outputs": [
    {
     "name": "stdout",
     "output_type": "stream",
     "text": [
      "Null Hypothesis has a pvalue of 1.0 which is greater than 0.05 \n",
      "thus the null hypothesis is true\n"
     ]
    }
   ],
   "source": [
    "\n",
    "A=[]\n",
    "B=[]\n",
    "\n",
    "#the new curve of the null hypothesis with new points\n",
    "i=0\n",
    "while i<len(x):\n",
    "    null_x=x[i]\n",
    "    null_y=a*x**4+b*x**3+c*x**2+d*x+e\n",
    "    A.append(null_x)\n",
    "    B.append(null_y)\n",
    "    i=i+1\n",
    "    continue\n",
    "\n",
    "#chi square test below\n",
    "\n",
    "[stat, pvalue]=stats.chisquare(f_obs=Y, f_exp=null_y)\n",
    "\n",
    "if pvalue > 0.05:\n",
    "    print(\"Null Hypothesis has a pvalue of\", pvalue, \"which is greater than 0.05 \\n\" \n",
    "           \"thus the null hypothesis is true\")\n"
   ]
  },
  {
   "cell_type": "code",
   "execution_count": 7,
   "id": "fee489e0",
   "metadata": {},
   "outputs": [
    {
     "name": "stdout",
     "output_type": "stream",
     "text": [
      "f= 136.29\n",
      "g= 722.92\n",
      "h= -5044.7\n",
      "[[ 2.21144749e+01  2.11519499e+01 -1.21210943e+03]\n",
      " [ 2.11519499e+01  6.66559342e+02 -4.28295596e+03]\n",
      " [-1.21210943e+03 -4.28295596e+03  9.88745727e+04]]\n"
     ]
    }
   ],
   "source": [
    "#Now repeating all earlier steps for alternative hypothesis\n",
    "\n",
    "#alternative hypothesis is a x^2 func because this looks even\n",
    "def Alt_hyp(x,f,g,h):\n",
    "    return f*x**2+g*x+h\n",
    "\n",
    "coeff2, pcov=curve_fit(Alt_hyp,x,y)\n",
    "\n",
    "[f,g,h] = coeff2\n",
    "print ('f=', round(f,2)) \n",
    "print ('g=', round(g,2))\n",
    "print ('h=', round(h,2))\n",
    "print (pcov)\n"
   ]
  },
  {
   "cell_type": "code",
   "execution_count": 8,
   "id": "be584c03",
   "metadata": {},
   "outputs": [
    {
     "name": "stdout",
     "output_type": "stream",
     "text": [
      "alternative hypothesis has a pvalue of 0.0 which is less than 0.05 \n",
      "thus the alternative hypothesis is not true\n"
     ]
    }
   ],
   "source": [
    "\n",
    "C=[]\n",
    "D=[]\n",
    "\n",
    "i=0\n",
    "while i<len(x):\n",
    "    alt_x=x[i]\n",
    "    alt_y=f*x**2+g*x+h\n",
    "    C.append(alt_x)\n",
    "    D.append(alt_y)\n",
    "    i=i+1\n",
    "    continue\n",
    "\n",
    "[stats2, pvalue2]=stats.chisquare(f_obs=Y, f_exp=alt_y)\n",
    "\n",
    "if pvalue < 0.05:\n",
    "    print(\"alternative hypothesis has a pvalue of\", pvalue2, \"which is greater than 0.05 \\n\" \n",
    "           \"thus the null hypothesis is true\")\n",
    "else: \n",
    "    print(\"alternative hypothesis has a pvalue of\", pvalue2, \"which is less than 0.05 \\n\"\n",
    "         \"thus the alternative hypothesis is not true\")\n",
    "\n",
    "\n"
   ]
  },
  {
   "cell_type": "code",
   "execution_count": 11,
   "id": "6c2ad392",
   "metadata": {
    "scrolled": true
   },
   "outputs": [
    {
     "data": {
      "image/png": "[encoded data removed]",
      "text/plain": [
       "<Figure size 432x288 with 1 Axes>"
      ]
     },
     "metadata": {
      "needs_background": "light"
     },
     "output_type": "display_data"
    }
   ],
   "source": [
    "fig=plt.figure()\n",
    "ax1=fig.add_subplot(111)\n",
    "#ax2=fig.add_subplot(111)\n",
    "\n",
    "#ax1.scatter(x, Null_hyp(x,coeff[0],coeff[1],coeff[2],coeff[3],coeff[4]), label=\"Null hyp fit\", color=\"green\")\n",
    "ax1.scatter(x, Alt_hyp(x,coeff2[0],coeff2[1], coeff2[2]), label=\"Alt hyp fit\", color=\"red\")\n",
    "ax1.scatter(x, Y, label=\"original curve\")\n",
    "plt.legend(loc='upper left')\n",
    "plt.title('Graph of X and Y')\n",
    "plt.xlabel('X')\n",
    "plt.ylabel('Y')\n",
    "plt.show()"
   ]
  },
  {
   "cell_type": "code",
   "execution_count": null,
   "id": "fb1bcc45",
   "metadata": {},
   "outputs": [],
   "source": []
  }
 ],
 "metadata": {
  "kernelspec": {
   "display_name": "Python 3 (ipykernel)",
   "language": "python",
   "name": "python3"
  },
  "language_info": {
   "codemirror_mode": {
    "name": "ipython",
    "version": 3
   },
   "file_extension": ".py",
   "mimetype": "text/x-python",
   "name": "python",
   "nbconvert_exporter": "python",
   "pygments_lexer": "ipython3",
   "version": "3.9.7"
  }
 },
 "nbformat": 4,
 "nbformat_minor": 5
}
